{
  "nbformat": 4,
  "nbformat_minor": 0,
  "metadata": {
    "colab": {
      "provenance": []
    },
    "kernelspec": {
      "name": "python3",
      "display_name": "Python 3"
    },
    "language_info": {
      "name": "python"
    }
  },
  "cells": [
    {
      "cell_type": "code",
      "source": [
        "from sklearn.decomposition import PCA\n",
        "from sklearn.preprocessing import StandardScaler\n",
        "\n",
        "# Standardize data\n",
        "scaler = StandardScaler()\n",
        "X_scaled = scaler.fit_transform(df[['LIT_RATE', 'SEX_RATIO',\n",
        "'PROP_WORK', 'POP', 'NO_HOUSEHOLD']])\n",
        "\n",
        "# PCA\n",
        "pca = PCA(n_components=2)\n",
        "X_pca = pca.fit_transform(X_scaled)\n",
        "\n",
        "# Explained variance\n",
        "print(\"Explained Variance Ratio:\",\n",
        "pca.explained_variance_ratio_)\n",
        "\n",
        "# Plot\n",
        "plt.scatter(X_pca[:, 0], X_pca[:, 1], c=df['Year'],\n",
        "cmap='viridis')\n",
        "plt.title('PCA of Interpolated Data')\n",
        "plt.xlabel('PC1')\n",
        "plt.ylabel('PC2')\n",
        "plt.colorbar(label='Year')\n",
        "plt.show()\n",
        "\n",
        "print(\"PC Loadings:\\n\", pca.components_)"
      ],
      "metadata": {
        "id": "gf3asCz9O0AQ"
      },
      "execution_count": null,
      "outputs": []
    }
  ]
}