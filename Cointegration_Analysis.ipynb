{
  "nbformat": 4,
  "nbformat_minor": 0,
  "metadata": {
    "colab": {
      "provenance": []
    },
    "kernelspec": {
      "name": "python3",
      "display_name": "Python 3"
    },
    "language_info": {
      "name": "python"
    }
  },
  "cells": [
    {
      "cell_type": "code",
      "source": [
        "import pandas as pd\n",
        "import itertools\n",
        "from statsmodels.tsa.stattools import coint\n",
        "\n",
        "# Load the dataset\n",
        "file_path = \"interpolated_kerala_data_1991_2011.xlsx\" #Change to your file path\n",
        "df = pd.read_excel(file_path, sheet_name=\"Sheet1\")\n",
        "\n",
        "# Define variables for cointegration testing\n",
        "columns_to_test = [\"LIT_RATE\", \"SEX_RATIO\", \"PROP_WORK\",\"POP\", \"NO_HOUSEHOLD\"]\n",
        "\n",
        "# Store cointegration test results\n",
        "coint_results = {}\n",
        "\n",
        "# Test all possible pairs of variables for cointegration\n",
        "for col1, col2 in itertools.combinations(columns_to_test, 2):\n",
        "score, p_value, _ = coint(df[col1], df[col2])\n",
        "coint_results[(col1, col2)] = p_value\n",
        "\n",
        "# Sort results by p-value (smallest first)\n",
        "sorted_coint_results = sorted(coint_results.items(),\n",
        "key=lambda x: x[1])\n",
        "\n",
        "# Display the most significant cointegration pairs\n",
        "for (series1, series2), p_val in sorted_coint_results:\n",
        "print(f\"{series1} & {series2} | p-value: {p_val:.5f}\")"
      ],
      "metadata": {
        "id": "gf3asCz9O0AQ"
      },
      "execution_count": null,
      "outputs": []
    }
  ]
}