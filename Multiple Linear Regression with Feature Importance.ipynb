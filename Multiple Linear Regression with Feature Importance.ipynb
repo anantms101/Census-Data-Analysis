{
  "nbformat": 4,
  "nbformat_minor": 0,
  "metadata": {
    "colab": {
      "provenance": []
    },
    "kernelspec": {
      "name": "python3",
      "display_name": "Python 3"
    },
    "language_info": {
      "name": "python"
    }
  },
  "cells": [
    {
      "cell_type": "code",
      "source": [
        "import pandas as pd\n",
        "import seaborn as sns\n",
        "import matplotlib.pyplot as plt\n",
        "import statsmodels.api as sm\n",
        "\n",
        "# Load the Excel file\n",
        "file_path = 'interpolated_kerala_data_1991_2011.xlsx' #Update this with your Excel file's path\n",
        "\n",
        "\n",
        "df = pd.read_excel(file_path)\n",
        "\n",
        "# Verify the data loaded correctly\n",
        "print(\"Data loaded from Excel:\")\n",
        "print(df.head())\n",
        "\n",
        "# Prepare the independent variables (X) and dependent variable (y)\n",
        "X = sm.add_constant(df[['LIT_RATE', 'SEX_RATIO', 'POP',\n",
        "'NO_HOUSEHOLD']]) # Add constant for intercept\n",
        "y = df['PROP_WORK']\n",
        "\n",
        "# Fit the OLS regression model\n",
        "model = sm.OLS(y, X).fit()\n",
        "\n",
        "# Print the regression summary\n",
        "print(\"\\nOLS Regression Results:\")\n",
        "print(model.summary())\n",
        "\n",
        "# Plot coefficients (excluding the constant term)\n",
        "plt.bar(X.columns[1:], model.params[1:]) # Skip the 'const'\n",
        "column\n",
        "plt.title('Feature Coefficients for PROP_WORK')\n",
        "plt.xlabel('Features')\n",
        "plt.ylabel('Coefficient Value')\n",
        "plt.xticks(rotation=45) # Rotate x-axis labels for better readability\n",
        "plt.tight_layout() # Adjust layout to prevent label cutoff\n",
        "plt.show()"
      ],
      "metadata": {
        "id": "gf3asCz9O0AQ"
      },
      "execution_count": null,
      "outputs": []
    }
  ]
}