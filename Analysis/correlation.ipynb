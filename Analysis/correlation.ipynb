{
  "nbformat": 4,
  "nbformat_minor": 0,
  "metadata": {
    "colab": {
      "provenance": []
    },
    "kernelspec": {
      "name": "python3",
      "display_name": "Python 3"
    },
    "language_info": {
      "name": "python"
    }
  },
  "cells": [
    {
      "cell_type": "code",
      "source": [
        "import pandas as pd\n",
        "import seaborn as sns\n",
        "import matplotlib.pyplot as plt\n",
        "\n",
        "# Load the interpolated data from the Excel file\n",
        "df = pd.read_excel('interpolated_kerala_data_1991_2011.xlsx')\n",
        "\n",
        "# Compute the correlation matrix\n",
        "correlation_matrix = df[['LIT_RATE', 'SEX_RATIO', 'PROP_WORK',\n",
        "'PROP_NONWORK', 'POP', 'NO_HOUSEHOLD']].corr()\n",
        "\n",
        "# Print the correlation matrix\n",
        "print(\"Correlation Matrix:\")\n",
        "print(correlation_matrix)\n",
        "\n",
        "# Visualize the correlation matrix as a heatmap\n",
        "plt.figure(figsize=(10, 8))\n",
        "sns.heatmap(correlation_matrix, annot=True, cmap='coolwarm',\n",
        "vmin=-1, vmax=1, center=0)\n",
        "plt.title('Correlation Matrix of Demographic Variables (1991–\n",
        "2011)')\n",
        "plt.show()"
      ],
      "metadata": {
        "id": "gf3asCz9O0AQ"
      },
      "execution_count": null,
      "outputs": []
    }
  ]
}
