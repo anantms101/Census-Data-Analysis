{
  "nbformat": 4,
  "nbformat_minor": 0,
  "metadata": {
    "colab": {
      "provenance": []
    },
    "kernelspec": {
      "name": "python3",
      "display_name": "Python 3"
    },
    "language_info": {
      "name": "python"
    }
  },
  "cells": [
    {
      "cell_type": "code",
      "source": [
        "import pandas as pd\n",
        "from statsmodels.tsa.stattools import grangercausalitytests\n",
        "\n",
        "# Load the dataset\n",
        "file_path = \"interpolated_kerala_data_1991_2011.xlsx\" #Change to your file path\n",
        "df = pd.read_excel(file_path, sheet_name=\"Sheet1\")\n",
        "\n",
        "# Define candidate variable pairs for Granger causality test\n",
        "variable_pairs = [\n",
        "(\"LIT_RATE\", \"PROP_WORK\"), # Literacy Rate →\n",
        "Workforce Participation\n",
        "(\"SEX_RATIO\", \"PROP_WORK\"), # Sex Ratio → Workforce\n",
        "Participation\n",
        "(\"POP\", \"PROP_WORK\"), # Population → Workforce\n",
        "Participation\n",
        "(\"NO_HOUSEHOLD\", \"PROP_WORK\") # No. of Households →\n",
        "Workforce Participation\n",
        "\n",
        "\n",
        "]\n",
        "\n",
        "# Store results\n",
        "granger_results = {}\n",
        "\n",
        "# Test each pair for Granger causality\n",
        "for col1, col2 in variable_pairs:\n",
        "test_result = grangercausalitytests(df[[col1, col2]],maxlag=3, verbose=False)\n",
        "\n",
        "# Extract p-values for different lags (lag 1, 2, 3)\n",
        "p_values = [test_result[lag][0]['ssr_ftest'][1] for lag in\n",
        "test_result.keys()]\n",
        "\n",
        "# Store the minimum p-value (strongest evidence of causality)\n",
        "granger_results[(col1, col2)] = min(p_values)\n",
        "\n",
        "# Sort results by p-value in ascending order\n",
        "sorted_granger_results = sorted(granger_results.items(),\n",
        "key=lambda x: x[1])\n",
        "\n",
        "# Display the top Granger causality relationships\n",
        "for (cause, effect), p_val in sorted_granger_results:\n",
        "print(f\"{cause} → {effect} | p-value: {p_val:.5f}\")"
      ],
      "metadata": {
        "id": "gf3asCz9O0AQ"
      },
      "execution_count": null,
      "outputs": []
    }
  ]
}
