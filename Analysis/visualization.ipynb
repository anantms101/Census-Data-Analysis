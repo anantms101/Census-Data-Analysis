{
  "nbformat": 4,
  "nbformat_minor": 0,
  "metadata": {
    "colab": {
      "provenance": []
    },
    "kernelspec": {
      "name": "python3",
      "display_name": "Python 3"
    },
    "language_info": {
      "name": "python"
    }
  },
  "cells": [
    {
      "cell_type": "code",
      "execution_count": null,
      "metadata": {
        "id": "aKtY5_cXOYt5"
      },
      "outputs": [],
      "source": [
        "import pandas as pd\n",
        "import matplotlib.pyplot as plt\n",
        "import seaborn as sns\n",
        "\n",
        "# Load the data\n",
        "file_path = \"D:\\EK_2011.xlsx\" # Change to your file path\n",
        "df = pd.read_excel(file_path, engine='openpyxl')\n",
        "\n",
        "# Set the theme for visualizations\n",
        "sns.set_theme(style=\"whitegrid\")\n",
        "\n",
        "# 1. Scatter Plot: Total Population vs. Literacy Rate\n",
        "plt.figure(figsize=(12, 6))\n",
        "sns.scatterplot(x=df[\"TOT_P\"], y=df[\"LIT_RATE\"],\n",
        "alpha=0.7)\n",
        "plt.xlabel(\"Total Population\")\n",
        "plt.ylabel(\"Literacy Rate (%)\")\n",
        "plt.title(\"Total Population vs. Literacy Rate\")\n",
        "plt.show()\n",
        "\n",
        "# 2. Histogram: Sex Ratio Distribution\n",
        "plt.figure(figsize=(10, 5))\n",
        "sns.histplot(df[\"SEX_RATIO\"], bins=20, kde=True,\n",
        "color=\"purple\")\n",
        "plt.xlabel(\"Sex Ratio (Females per 1000 Males)\")\n",
        "plt.ylabel(\"Frequency\")\n",
        "plt.title(\"Distribution of Sex Ratio\")\n",
        "plt.show()\n",
        "\n",
        "# 3. Pie Chart: Work vs. Non-Work Proportions\n",
        "plt.figure(figsize=(8, 8))\n",
        "plt.pie([df[\"PROP_WORK\"].mean(),\n",
        "df[\"PROP_NONWORK\"].mean()],\n",
        "labels=[\"Work\", \"Non-Work\"], autopct=\"%1.1f%%\",\n",
        "colors=[\"green\", \"red\"])\n",
        "plt.title(\"Average Work vs. Non-Work Proportions\")\n",
        "plt.show()"
      ]
    }
  ]
}
