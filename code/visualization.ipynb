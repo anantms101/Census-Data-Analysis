import pandas as pd
import matplotlib.pyplot as plt
import seaborn as sns

# Load the data
file_path = "D:\EK_2011.xlsx" # Change to your file path
df = pd.read_excel(file_path, engine='openpyxl')

# Set the theme for visualizations
sns.set_theme(style="whitegrid")

# 1. Scatter Plot: Total Population vs. Literacy Rate
plt.figure(figsize=(12, 6))
sns.scatterplot(x=df["TOT_P"], y=df["LIT_RATE"],
alpha=0.7)
plt.xlabel("Total Population")
plt.ylabel("Literacy Rate (%)")
plt.title("Total Population vs. Literacy Rate")
plt.show()

# 2. Histogram: Sex Ratio Distribution
plt.figure(figsize=(10, 5))
sns.histplot(df["SEX_RATIO"], bins=20, kde=True,
color="purple")
plt.xlabel("Sex Ratio (Females per 1000 Males)")
plt.ylabel("Frequency")
plt.title("Distribution of Sex Ratio")
plt.show()

# 3. Pie Chart: Work vs. Non-Work Proportions
plt.figure(figsize=(8, 8))
plt.pie([df["PROP_WORK"].mean(),
df["PROP_NONWORK"].mean()],
labels=["Work", "Non-Work"], autopct="%1.1f%%",
colors=["green", "red"])
plt.title("Average Work vs. Non-Work Proportions")
plt.show()
